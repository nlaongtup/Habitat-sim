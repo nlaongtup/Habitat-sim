{
  "nbformat": 4,
  "nbformat_minor": 0,
  "metadata": {
    "accelerator": "GPU",
    "colab": {
      "name": "habitat_challenge.ipynb",
      "provenance": [],
      "collapsed_sections": [],
      "include_colab_link": true
    },
    "jupytext": {
      "cell_metadata_filter": "-all",
      "formats": "nb_python//py:percent,colabs//ipynb",
      "main_language": "python",
      "notebook_metadata_filter": "all"
    },
    "kernelspec": {
      "display_name": "Python 3",
      "name": "python3"
    },
    "pycharm": {
      "stem_cell": {
        "cell_type": "raw",
        "metadata": {
          "collapsed": false
        },
        "source": []
      }
    }
  },
  "cells": [
    {
      "cell_type": "markdown",
      "metadata": {
        "id": "view-in-github",
        "colab_type": "text"
      },
      "source": [
        "<a href=\"https://colab.research.google.com/github/nlaongtup/Habitat-sim/blob/main/habitat_challenge.ipynb\" target=\"_parent\"><img src=\"https://colab.research.google.com/assets/colab-badge.svg\" alt=\"Open In Colab\"/></a>"
      ]
    },
    {
      "cell_type": "markdown",
      "metadata": {
        "id": "GD1rn8OLYG-w"
      },
      "source": [
        "# Habitat Challenge Tutorial\n",
        "\n",
        "## Challenge page: https://aihabitat.org/challenge/2020/\n",
        "\n",
        "## Challenge starter code: https://github.com/facebookresearch/habitat-challenge"
      ]
    },
    {
      "cell_type": "markdown",
      "metadata": {
        "id": "Iva1yTu0YG-1"
      },
      "source": [
        "# Install dependencies:\n",
        "\n",
        "*   git, wget, zip\n",
        "*   Nvidia drivers and CUDA\n",
        "*   Conda\n",
        "*   Docker\n",
        "*   Nvidia Docker v2\n",
        "*  EvalAI and auth token:\n",
        "![set_token_screen](https://drive.google.com/uc?id=1LcJCIW6MNtvv52Gbs6VcqFWnJIGqvraI)"
      ]
    },
    {
      "cell_type": "code",
      "metadata": {
        "id": "bHVb0TdSYG-1"
      },
      "source": [
        "# Install dependencies\n",
        "!sudo apt-get update || true\n",
        "!sudo apt-get install -y --no-install-recommends \\\n",
        "    build-essential \\\n",
        "    git \\\n",
        "    curl \\\n",
        "    vim \\\n",
        "    ca-certificates \\\n",
        "    pkg-config \\\n",
        "    wget \\\n",
        "    zip \\\n",
        "    unzip || true\n",
        "\n",
        "# Install nvidia drivers and cuda\n",
        "!wget https://developer.download.nvidia.com/compute/cuda/repos/ubuntu1604/x86_64/cuda-repo-ubuntu1604_8.0.44-1_amd64.deb\n",
        "!sudo dpkg -i cuda-repo-ubuntu1604_8.0.44-1_amd64.deb\n",
        "!sudo apt-get update || true\n",
        "!sudo apt-get --yes --force-yes install cuda\n",
        "!touch ./cuda_installed\n",
        "!nvidia-smi\n",
        "\n",
        "# Install conda and dependencies\n",
        "!curl -o /content/miniconda.sh -O  https://repo.anaconda.com/miniconda/Miniconda3-latest-Linux-x86_64.sh\n",
        "!bash $HOME/miniconda.sh -b -p $HOME/miniconda\n",
        "!rm ~/miniconda.sh\n",
        "!export PATH=$HOME/miniconda/bin:/usr/local/cuda/bin:$PATH\n",
        "!conda create -y -n habitat python=3.6\n",
        "!conda activate habitat\n",
        "\n",
        "# Install Docker\n",
        "!export PATH=$HOME/miniconda/bin:/usr/local/cuda/bin:$PATH\n",
        "!conda activate habitat;\n",
        "!curl -fsSL https://download.docker.com/linux/ubuntu/gpg | sudo apt-key add -\n",
        "!sudo add-apt-repository \"deb [arch=amd64] https://download.docker.com/linux/ubuntu $(lsb_release -cs) stable\"\n",
        "!sudo apt-get update\n",
        "!sudo apt-get install -y docker-ce\n",
        "!apt-cache policy docker-ce\n",
        "\n",
        "# Install Nvidia Docker\n",
        "!curl -s -L https://nvidia.github.io/nvidia-docker/gpgkey | sudo apt-key add -\n",
        "!distribution=$(. /etc/os-release;echo $ID$VERSION_ID)\n",
        "!curl -s -L https://nvidia.github.io/nvidia-docker/$distribution/nvidia-docker.list | \\\n",
        "  sudo tee /etc/apt/sources.list.d/nvidia-docker.list\n",
        "!sudo apt-get update\n",
        "!sudo apt-get install nvidia-docker2\n",
        "!sudo pkill -SIGHUP dockerd\n",
        "\n",
        "\n",
        "# EvlaAI install\n",
        "!pip install \"evalai>=1.2.3\"\n",
        "# Set EvalAI account token\n",
        "!evalai set_token $EVALAI_TOKEN"
      ],
      "execution_count": null,
      "outputs": []
    },
    {
      "cell_type": "markdown",
      "metadata": {
        "id": "WCInmyGNYG-2"
      },
      "source": [
        "# Clone habitat-challenge repo and download required data:\n",
        "\n",
        "*   Clone https://github.com/facebookresearch/habitat-challenge\n",
        "*   Gibson scenes dataset from https://github.com/StanfordVL/GibsonEnv#database after signing an agreement.\n",
        "*   Task episodes dataset: PointNav v2 episodes for Gibson scenes\n",
        "*   DDPPO baseline pretrained checkpoint\n",
        "\n"
      ]
    },
    {
      "cell_type": "code",
      "metadata": {
        "lines_to_next_cell": 2,
        "id": "FuGi0mPBYG-2"
      },
      "source": [
        "%cd ~\n",
        "!sudo rm -rf habitat-challenge\n",
        "!git clone https://github.com/facebookresearch/habitat-challenge\n",
        "%cd habitat-challenge\n",
        "\n",
        "# Download Gibson scenes dataset from https://github.com/StanfordVL/GibsonEnv#database after signing an agreement\n",
        "!mkdir -p habitat-challenge-data/data/scene_datasets\n",
        "!cp -r $PATH_TO_SCENE_DATASETS habitat-challenge-data/data/\n",
        "\n",
        "# Task episodes dataset: PointNav v2 episodes for Gibson\n",
        "!mkdir -p habitat-challenge-data/data/datasets/pointnav/gibson\n",
        "!wget -c https://dl.fbaipublicfiles.com/habitat/data/datasets/pointnav/gibson/v2/pointnav_gibson_v2.zip && unzip -o pointnav_gibson_v2.zip -d habitat-challenge-data/data/datasets/pointnav/gibson\n",
        "\n",
        "# DDPPO baseline\n",
        "!wget https://dl.fbaipublicfiles.com/habitat/data/baselines/v1/ddppo_pointnav_habitat2020_challenge_baseline_v1.pth"
      ],
      "execution_count": null,
      "outputs": []
    },
    {
      "cell_type": "markdown",
      "metadata": {
        "id": "64N6GS6CYG-3"
      },
      "source": [
        "# Build Docker image Pointnav_DDPPO_baseline"
      ]
    },
    {
      "cell_type": "code",
      "metadata": {
        "id": "B_zBYitVYG-3"
      },
      "source": [
        "!cat Pointnav_DDPPO_baseline.Dockerfile\n",
        "!docker build . --file Pointnav_DDPPO_baseline.Dockerfile -t ddppo_pointnav_submission"
      ],
      "execution_count": null,
      "outputs": []
    },
    {
      "cell_type": "markdown",
      "metadata": {
        "id": "ls9e-zpSYG-3"
      },
      "source": [
        "# Run evaluation locally (takes 5 min)"
      ]
    },
    {
      "cell_type": "code",
      "metadata": {
        "id": "VKi5GOqJYG-3"
      },
      "source": [
        "!bash /test_locally_pointnav_rgbd.sh --docker-name ddppo_pointnav_submission"
      ],
      "execution_count": null,
      "outputs": []
    },
    {
      "cell_type": "markdown",
      "metadata": {
        "id": "3H14ik0KYG-3"
      },
      "source": [
        "# Push docker image to EvalAI Validation mini_val stage (50 episodes)\n",
        "Check results on [the PointGoalNav v2 Minival stage leaderboard](https://evalai.cloudcv.org/web/challenges/challenge-page/580/leaderboard/1630).\n",
        "\n",
        "![leaderboard](https://drive.google.com/uc?id=1cvdEfAkNrTRA9GLtfizgIylwk_tgHigU)"
      ]
    },
    {
      "cell_type": "code",
      "metadata": {
        "lines_to_next_cell": 2,
        "id": "SyKNkeyNYG-3"
      },
      "source": [
        "!evalai push ddppo_pointnav_submission:latest --phase habitat20-pointnav-minival"
      ],
      "execution_count": null,
      "outputs": []
    },
    {
      "cell_type": "markdown",
      "metadata": {
        "id": "zAqyBvCBYG-4"
      },
      "source": [
        "# Push docker image to EvalAI Test stage\n",
        "*Can take up to 36 hours to get result.*"
      ]
    },
    {
      "cell_type": "code",
      "metadata": {
        "id": "QeNfi0H3YG-4"
      },
      "source": [
        "# Push docker image to EvalAI docker registry\n",
        "!evalai push ddppo_pointnav_submission:latest --phase habitat20-pointnav-test-std"
      ],
      "execution_count": null,
      "outputs": []
    },
    {
      "cell_type": "code",
      "metadata": {
        "id": "_8sXMegqYG-4"
      },
      "source": [
        "!evalai submission 94203"
      ],
      "execution_count": null,
      "outputs": []
    },
    {
      "cell_type": "markdown",
      "metadata": {
        "id": "wG-vexAvYG-4"
      },
      "source": [
        "# Happy hacking!"
      ]
    },
    {
      "cell_type": "markdown",
      "metadata": {
        "id": "TbSGty-SYG-4"
      },
      "source": [
        "\n",
        "# Citing Habitat Challenge 2020\n",
        "Please cite [the following paper](https://arxiv.org/abs/1912.06321) for details about the 2020 PointNav challenge:\n",
        "\n",
        "```\n",
        "@inproceedings{habitat2020sim2real,\n",
        "  title     =     {Are {W}e {M}aking {R}eal {P}rogress in {S}imulated {E}nvironments? {M}easuring the {S}im2{R}eal {G}ap in {E}mbodied {V}isual {N}avigation},\n",
        "  author    =     {{Abhishek Kadian*} and {Joanne Truong*} and Aaron Gokaslan and Alexander Clegg and Erik Wijmans and Stefan Lee and Manolis Savva and Sonia Chernova and Dhruv Batra},\n",
        "  booktitle =     {arXiv:1912.06321},\n",
        "  year      =     {2019}\n",
        "}\n",
        "```\n",
        "\n",
        "Please cite [the following paper](https://arxiv.org/abs/2006.13171) for details about the 2020 ObjectNav challenge:\n",
        "```\n",
        "@inproceedings{batra2020objectnav,\n",
        "  title     =     {Object{N}av {R}evisited: {O}n {E}valuation of {E}mbodied {A}gents {N}avigating to {O}bjects},\n",
        "  author    =     {Dhruv Batra and Aaron Gokaslan and Aniruddha Kembhavi and Oleksandr Maksymets and Roozbeh Mottaghi and Manolis Savva and Alexander Toshev and Erik Wijmans},\n",
        "  booktitle =     {arXiv:2006.13171},\n",
        "  year      =     {2020}\n",
        "}\n",
        "```"
      ]
    }
  ]
}